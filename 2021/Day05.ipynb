{
 "cells": [
  {
   "cell_type": "markdown",
   "metadata": {},
   "source": [
    "# Advant of Code: Day 5"
   ]
  },
  {
   "cell_type": "markdown",
   "metadata": {},
   "source": [
    "## Any method"
   ]
  },
  {
   "cell_type": "markdown",
   "metadata": {},
   "source": [
    "### Part 1"
   ]
  },
  {
   "cell_type": "code",
   "execution_count": 3,
   "metadata": {},
   "outputs": [],
   "source": [
    "import pandas as pd\n",
    "import numpy as np"
   ]
  },
  {
   "cell_type": "code",
   "execution_count": 7,
   "metadata": {},
   "outputs": [],
   "source": [
    "TEST_PATH = 'Data/day05.test'\n",
    "DATA_PATH = 'Data/day05.in'"
   ]
  },
  {
   "cell_type": "code",
   "execution_count": 85,
   "metadata": {},
   "outputs": [],
   "source": [
    "def minefiled(path, diagonals=False):\n",
    "        \n",
    "    with open(path) as f:\n",
    "        data = f.readlines()\n",
    "\n",
    "    #Preprocess data into a matrx\n",
    "    data = [e[:-1] for e in data]\n",
    "    data = [e.split(' -> ') for e in data]\n",
    "    data = [[e[0].split(',')[0],e[0].split(',')[1], e[1].split(',')[0], e[1].split(',')[1]] for e in data]\n",
    "    data = [[int(e) for e in r] for r in data]\n",
    "\n",
    "    #filter to keep only the straight lines\n",
    "    #straight = [e for e in data if e[0] == e[2] or e[1] == e[3]]\n",
    "\n",
    "    #Determine tbe size requiremtn of the grid\n",
    "    max_x = 0\n",
    "    max_y = 0\n",
    "    for r in data:\n",
    "        if r[0] > max_x:\n",
    "            max_x = r[0]\n",
    "        if r[2] > max_x:\n",
    "            max_x = r[2]\n",
    "        if r[1] > max_y:\n",
    "            max_y = r[1]\n",
    "        if r[3] > max_y:\n",
    "            max_y = r[3]\n",
    "        \n",
    "    print(f'the grid will be {max_x+1} by {max_y+1}')\n",
    "\n",
    "    #instantiate the grid\n",
    "    grid = [[0 for r in range(max_x+1)] for c in range(max_y+1)]\n",
    "\n",
    "    #incorporate a line\n",
    "    def add_line(grid, line, diagonals=False):\n",
    "\n",
    "        #if vertical\n",
    "        if line[0] == line[2]:\n",
    "            for i in range(min(line[3],line[1]), max(line[3],line[1])+1):\n",
    "                grid[i][line[0]] += 1\n",
    "        \n",
    "        #if horizontal\n",
    "        elif line[1] == line[3]:\n",
    "            for i in range(min(line[0],line[2]), max(line[0],line[2])+1):\n",
    "                grid[line[1]][i] += 1\n",
    "        \n",
    "        #diagonal\n",
    "        elif diagonals:\n",
    "\n",
    "            #down_slope\n",
    "            if (line[3]-line[1])*(line[2]-line[0]) >= 0:\n",
    "                for i in range(max(line[0],line[2]) - min(line[0],line[2])+1):\n",
    "                        grid[min(line[3],line[1]) + i][min(line[0],line[2]) + i] += 1\n",
    "       \n",
    "\n",
    "            #slope_up\n",
    "            else:\n",
    "                for i in range(max(line[0],line[2]) - min(line[0],line[2])+1):\n",
    "                        grid[min(line[3],line[1]) + i][max(line[0],line[2]) - i] += 1\n",
    "\n",
    "        else:\n",
    "            pass\n",
    "            print('something was skipped')\n",
    "\n",
    "    \n",
    "\n",
    "    for line in data:\n",
    "        add_line(grid, line, diagonals)\n",
    "\n",
    "\n",
    "    #coutn where at least 2 overlap\n",
    "    count = 0\n",
    "    for r in grid:\n",
    "        for c in r:\n",
    "            if c >= 2:\n",
    "                count+=1\n",
    "\n",
    "\n",
    "    print(f'there will be {count} spots where two or more overlap')\n",
    "    #for r in grid:\n",
    "    #    print(r)\n",
    "\n",
    "    \n",
    "\n"
   ]
  },
  {
   "cell_type": "code",
   "execution_count": 83,
   "metadata": {},
   "outputs": [
    {
     "name": "stdout",
     "output_type": "stream",
     "text": [
      "the grid will be 10 by 10\n",
      "something was skipped\n",
      "something was skipped\n",
      "something was skipped\n",
      "something was skipped\n",
      "there will be 5 spots where two or more overlap\n",
      "[0, 0, 0, 0, 0, 0, 0, 1, 0, 0]\n",
      "[0, 0, 1, 0, 0, 0, 0, 1, 0, 0]\n",
      "[0, 0, 1, 0, 0, 0, 0, 1, 0, 0]\n",
      "[0, 0, 0, 0, 0, 0, 0, 1, 0, 0]\n",
      "[0, 1, 1, 2, 1, 1, 1, 2, 1, 1]\n",
      "[0, 0, 0, 0, 0, 0, 0, 0, 0, 0]\n",
      "[0, 0, 0, 0, 0, 0, 0, 0, 0, 0]\n",
      "[0, 0, 0, 0, 0, 0, 0, 0, 0, 0]\n",
      "[0, 0, 0, 0, 0, 0, 0, 0, 0, 0]\n",
      "[2, 2, 2, 1, 1, 1, 0, 0, 0, 0]\n"
     ]
    }
   ],
   "source": [
    "minefiled(TEST_PATH)"
   ]
  },
  {
   "cell_type": "code",
   "execution_count": 74,
   "metadata": {},
   "outputs": [
    {
     "name": "stdout",
     "output_type": "stream",
     "text": [
      "the grid will be 991 by 990\n",
      "there will be 5294 spots where two or more overlap\n"
     ]
    }
   ],
   "source": [
    "minefiled(DATA_PATH)"
   ]
  },
  {
   "cell_type": "markdown",
   "metadata": {},
   "source": [
    "### Part 2"
   ]
  },
  {
   "cell_type": "code",
   "execution_count": 84,
   "metadata": {},
   "outputs": [
    {
     "name": "stdout",
     "output_type": "stream",
     "text": [
      "the grid will be 10 by 10\n",
      "there will be 12 spots where two or more overlap\n",
      "[1, 0, 1, 0, 0, 0, 0, 1, 1, 0]\n",
      "[0, 1, 1, 1, 0, 0, 0, 2, 0, 0]\n",
      "[0, 0, 2, 0, 1, 0, 1, 1, 1, 0]\n",
      "[0, 0, 0, 1, 0, 2, 0, 2, 0, 0]\n",
      "[0, 1, 1, 2, 3, 1, 3, 2, 1, 1]\n",
      "[0, 0, 0, 1, 0, 2, 0, 0, 0, 0]\n",
      "[0, 0, 1, 0, 0, 0, 1, 0, 0, 0]\n",
      "[0, 1, 0, 0, 0, 0, 0, 1, 0, 0]\n",
      "[1, 0, 0, 0, 0, 0, 0, 0, 1, 0]\n",
      "[2, 2, 2, 1, 1, 1, 0, 0, 0, 0]\n"
     ]
    }
   ],
   "source": [
    "minefiled(TEST_PATH, diagonals=True)"
   ]
  },
  {
   "cell_type": "code",
   "execution_count": 86,
   "metadata": {},
   "outputs": [
    {
     "name": "stdout",
     "output_type": "stream",
     "text": [
      "the grid will be 991 by 990\n",
      "there will be 21698 spots where two or more overlap\n"
     ]
    }
   ],
   "source": [
    "minefiled(DATA_PATH, diagonals=True)"
   ]
  },
  {
   "cell_type": "code",
   "execution_count": null,
   "metadata": {},
   "outputs": [],
   "source": []
  }
 ],
 "metadata": {
  "interpreter": {
   "hash": "4bd624a0593993fe43ac4046b27b898fb2ef75c21c08f81e89e64ea0f51df676"
  },
  "kernelspec": {
   "display_name": "Python 3.9.7 64-bit ('tensorflow': conda)",
   "language": "python",
   "name": "python3"
  },
  "language_info": {
   "codemirror_mode": {
    "name": "ipython",
    "version": 3
   },
   "file_extension": ".py",
   "mimetype": "text/x-python",
   "name": "python",
   "nbconvert_exporter": "python",
   "pygments_lexer": "ipython3",
   "version": "3.9.7"
  },
  "orig_nbformat": 4
 },
 "nbformat": 4,
 "nbformat_minor": 2
}
