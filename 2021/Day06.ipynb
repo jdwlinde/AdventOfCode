{
 "cells": [
  {
   "cell_type": "markdown",
   "metadata": {},
   "source": [
    "# Advent of Code"
   ]
  },
  {
   "cell_type": "markdown",
   "metadata": {},
   "source": [
    "## Any method"
   ]
  },
  {
   "cell_type": "markdown",
   "metadata": {},
   "source": [
    "### Part 1"
   ]
  },
  {
   "cell_type": "code",
   "execution_count": 49,
   "metadata": {},
   "outputs": [],
   "source": [
    "TEST_PATH = 'Data/day06.test'\n",
    "DATA_PATH = 'Data/day06.in'"
   ]
  },
  {
   "cell_type": "code",
   "execution_count": 50,
   "metadata": {},
   "outputs": [],
   "source": [
    "def fish_counter(path, days):\n",
    "\n",
    "    with open(path) as f:\n",
    "        fish_list = f.readline()\n",
    "\n",
    "    fish_list = fish_list.split(',')\n",
    "    fish_list = [int(e) for e in fish_list]\n",
    "\n",
    "    fish_sorted = []\n",
    "\n",
    "    for i in range(9):\n",
    "        fish_sorted.append(fish_list.count(i))\n",
    "\n",
    "    for i in range(days):\n",
    "        spawned = fish_sorted.pop(0)\n",
    "        fish_sorted[6] += spawned\n",
    "        fish_sorted.append(spawned)\n",
    "\n",
    "    return(f\"There are {sum(fish_sorted)} fish in shape of {fish_sorted}\")"
   ]
  },
  {
   "cell_type": "code",
   "execution_count": 52,
   "metadata": {},
   "outputs": [
    {
     "data": {
      "text/plain": [
       "'There are 26 fish in shape of [3, 5, 3, 2, 2, 1, 5, 1, 4]'"
      ]
     },
     "execution_count": 52,
     "metadata": {},
     "output_type": "execute_result"
    }
   ],
   "source": [
    "fish_counter(TEST_PATH, 18)"
   ]
  },
  {
   "cell_type": "code",
   "execution_count": 54,
   "metadata": {},
   "outputs": [
    {
     "data": {
      "text/plain": [
       "'There are 366057 fish in shape of [21788, 49053, 29618, 49830, 44709, 44379, 66602, 20574, 39504]'"
      ]
     },
     "execution_count": 54,
     "metadata": {},
     "output_type": "execute_result"
    }
   ],
   "source": [
    "fish_counter(DATA_PATH, 80)"
   ]
  },
  {
   "cell_type": "markdown",
   "metadata": {},
   "source": [
    "### Part 2"
   ]
  },
  {
   "cell_type": "code",
   "execution_count": 55,
   "metadata": {},
   "outputs": [
    {
     "data": {
      "text/plain": [
       "'There are 26984457539 fish in shape of [2376852196, 2731163883, 2897294544, 3164316379, 3541830408, 3681986557, 4275812629, 1985489551, 2329711392]'"
      ]
     },
     "execution_count": 55,
     "metadata": {},
     "output_type": "execute_result"
    }
   ],
   "source": [
    "fish_counter(TEST_PATH, 256)"
   ]
  },
  {
   "cell_type": "code",
   "execution_count": 56,
   "metadata": {},
   "outputs": [
    {
     "data": {
      "text/plain": [
       "'There are 1653559299811 fish in shape of [142796431093, 168998522736, 176972779430, 192434943096, 219875808369, 220869399474, 267293861994, 118583747405, 145733806214]'"
      ]
     },
     "execution_count": 56,
     "metadata": {},
     "output_type": "execute_result"
    }
   ],
   "source": [
    "fish_counter(DATA_PATH, 256)"
   ]
  }
 ],
 "metadata": {
  "interpreter": {
   "hash": "4bd624a0593993fe43ac4046b27b898fb2ef75c21c08f81e89e64ea0f51df676"
  },
  "kernelspec": {
   "display_name": "Python 3.9.7 64-bit ('tensorflow': conda)",
   "language": "python",
   "name": "python3"
  },
  "language_info": {
   "codemirror_mode": {
    "name": "ipython",
    "version": 3
   },
   "file_extension": ".py",
   "mimetype": "text/x-python",
   "name": "python",
   "nbconvert_exporter": "python",
   "pygments_lexer": "ipython3",
   "version": "3.9.7"
  },
  "orig_nbformat": 4
 },
 "nbformat": 4,
 "nbformat_minor": 2
}
