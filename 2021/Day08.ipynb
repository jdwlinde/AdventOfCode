{
 "cells": [
  {
   "cell_type": "markdown",
   "metadata": {},
   "source": [
    "# Advent Of Code 2021"
   ]
  },
  {
   "cell_type": "markdown",
   "metadata": {},
   "source": [
    "## Any Methods"
   ]
  },
  {
   "cell_type": "markdown",
   "metadata": {},
   "source": [
    "### Part 1"
   ]
  },
  {
   "cell_type": "code",
   "execution_count": 3,
   "metadata": {},
   "outputs": [],
   "source": [
    "import pandas as np\n",
    "import numpy as np\n",
    "import time"
   ]
  },
  {
   "cell_type": "code",
   "execution_count": 4,
   "metadata": {},
   "outputs": [],
   "source": [
    "TEST_PATH = 'Data/day08.test'\n",
    "DATA_PATH = 'Data/day08.in'"
   ]
  },
  {
   "cell_type": "code",
   "execution_count": 105,
   "metadata": {},
   "outputs": [],
   "source": [
    "\n",
    "def main(path, part = 1):\n",
    "    start_time = time.time()\n",
    "    with open(path) as f:\n",
    "        data = f.readlines()\n",
    "\n",
    "    #Pre-Process the data\n",
    "    data = [e[:-1].split(' | ') for e in data]\n",
    "\n",
    "    keys = [e[0].split(' ') for e in data]\n",
    "    digits = [e[1].split(' ') for e in data]\n",
    "\n",
    "    digit_count = [[len(e) for e in row] for row in digits]\n",
    "\n",
    "    if part == 1:\n",
    "        #count 1 4 7 8\n",
    "        tally = 0\n",
    "        for row in digit_count:\n",
    "            for e in row:\n",
    "                if e in [2,4,3,7]:\n",
    "                    tally +=1\n",
    "\n",
    "        print(f\"Tally for 1,4,7,8 is: {tally}\")\n",
    "        print(\"--- %s seconds ---\" % (time.time() - start_time))\n",
    "        return None\n",
    "\n",
    "    #Function for decoding the 9 unique values into its associated numeric values as a dictionary\n",
    "    def solve_digits(uniques):\n",
    "        solution = {}\n",
    "        digit_count = [len(e) for e in uniques]\n",
    "\n",
    "        #Logic for values 1,4,7,8 is easy\n",
    "        #Each of then have a unique lengh, so just lookup the index in the list contaiing the len of each of the values\n",
    "        solution[1] = uniques[digit_count.index(2)]\n",
    "        solution[4] = uniques[digit_count.index(4)]\n",
    "        solution[7] = uniques[digit_count.index(3)]\n",
    "        solution[8] = uniques[digit_count.index(7)]\n",
    " \n",
    "        #Logic for all values with lengh 6, aka Solve for 6,0 and 9\n",
    "        sixers = [e for e in uniques if len(e) == 6]\n",
    "\n",
    "        #Logic to solve for 6\n",
    "        #6 is the only 6-digit number that does not contain all segments present in a 1\n",
    "        for char in solution[1]:\n",
    "            for sixer in sixers:\n",
    "                if not (char in sixer):\n",
    "                    solution[6] = sixer\n",
    "        sixers.remove(solution[6]) #remove number once done to keep eventually only have one remain\n",
    "\n",
    "        #Logic to solve for 0\n",
    "        #First find the 2 segments that is in 4 but not in eiter 1 and 7. Then find the 6-digit number that lack either of those sections\n",
    "        remaining_segments = [char for char in solution[4] if char not in (list(solution[1])+list(solution[7]))]\n",
    "        for char in remaining_segments:\n",
    "            for sixer in sixers:\n",
    "                if not (char in sixer):\n",
    "                    solution[0] = sixer\n",
    "        sixers.remove(solution[0])\n",
    "\n",
    "        #The only remaining digit with six characters is then 9\n",
    "        solution[9] = sixers[0]\n",
    "\n",
    "\n",
    "        #Logic for all values with lengh 5, aka Solve for 5,2 and 3\n",
    "        fiveers = [e for e in uniques if len(e) == 5]\n",
    "        \n",
    "        #Logic to solve for 3\n",
    "        #The only 5-digit number that contains all sections present in a 1\n",
    "        solution[3] =  [e for e in fiveers if all(elem in list(e) for elem in list(solution[1]))][0]\n",
    "        fiveers.remove(solution[3])\n",
    "\n",
    "        #Logic to solve for 2\n",
    "        #Since we now all the segments that for a 6, find the one section that is absent in it. of the remioning 2 5-digit nimbers, 2 is the one that contains that missing segment\n",
    "        for letter in list('abcdefg'):\n",
    "            if letter not in solution[6]:\n",
    "                missing = letter\n",
    "        solution[2] = [five for five in fiveers if missing in five][0]\n",
    "        fiveers.remove(solution[2])\n",
    "\n",
    "        #Logic for solving 5 \n",
    "        #The only remaining one with lengh 5 \n",
    "        solution[5] = fiveers[0]\n",
    "\n",
    "        return solution\n",
    "    \n",
    "    #Use solve_digits function to build a list with all the dictionaries required to solve the numbers\n",
    "    decoded = []\n",
    "    for key in keys:\n",
    "        solution_dict = solve_digits(key)\n",
    "        for i in range(10):\n",
    "            solution_dict[i] = \"\".join(sorted(solution_dict[i]))\n",
    "        decoded.append(dict([(value, key) for key, value in solution_dict.items()]))\n",
    "\n",
    "    #Itterate through digits and use the decode list of dictionaries to decode then into plain numbers\n",
    "    decoded_digits = []\n",
    "    for i,v in enumerate(digits):\n",
    "        aa = []\n",
    "        for elem in v:\n",
    "            aa.append(decoded[i][\"\".join(sorted(elem))])\n",
    "        decoded_digits.append(aa)\n",
    "\n",
    "    #Sum digits for final solution.\n",
    "    total = 0\n",
    "    for i in decoded_digits:\n",
    "        num = 1000*i[0] + 100*i[1] + 10*i[2] + i[3] #Beacuse I am lazy\n",
    "        total += num\n",
    "    \n",
    "    print(f'total is {total}')\n",
    "    print(\"--- %s seconds ---\" % (time.time() - start_time))\n",
    "    return None\n"
   ]
  },
  {
   "cell_type": "code",
   "execution_count": 106,
   "metadata": {},
   "outputs": [
    {
     "name": "stdout",
     "output_type": "stream",
     "text": [
      "Tally for 1,4,7,8 is: 26\n",
      "--- 0.0013570785522460938 seconds ---\n"
     ]
    }
   ],
   "source": [
    "main(TEST_PATH)"
   ]
  },
  {
   "cell_type": "code",
   "execution_count": 107,
   "metadata": {},
   "outputs": [
    {
     "name": "stdout",
     "output_type": "stream",
     "text": [
      "Tally for 1,4,7,8 is: 264\n",
      "--- 0.0020058155059814453 seconds ---\n"
     ]
    }
   ],
   "source": [
    "main(DATA_PATH)"
   ]
  },
  {
   "cell_type": "markdown",
   "metadata": {},
   "source": [
    "### Part 2"
   ]
  },
  {
   "cell_type": "code",
   "execution_count": 108,
   "metadata": {},
   "outputs": [
    {
     "name": "stdout",
     "output_type": "stream",
     "text": [
      "total is 61229\n",
      "--- 0.0007741451263427734 seconds ---\n"
     ]
    }
   ],
   "source": [
    "main(TEST_PATH, part = 2)"
   ]
  },
  {
   "cell_type": "code",
   "execution_count": 109,
   "metadata": {},
   "outputs": [
    {
     "name": "stdout",
     "output_type": "stream",
     "text": [
      "total is 1063760\n",
      "--- 0.00347900390625 seconds ---\n"
     ]
    }
   ],
   "source": [
    "main(DATA_PATH, part = 2)"
   ]
  }
 ],
 "metadata": {
  "interpreter": {
   "hash": "4bd624a0593993fe43ac4046b27b898fb2ef75c21c08f81e89e64ea0f51df676"
  },
  "kernelspec": {
   "display_name": "Python 3.9.7 64-bit ('tensorflow': conda)",
   "language": "python",
   "name": "python3"
  },
  "language_info": {
   "codemirror_mode": {
    "name": "ipython",
    "version": 3
   },
   "file_extension": ".py",
   "mimetype": "text/x-python",
   "name": "python",
   "nbconvert_exporter": "python",
   "pygments_lexer": "ipython3",
   "version": "3.9.7"
  },
  "orig_nbformat": 4
 },
 "nbformat": 4,
 "nbformat_minor": 2
}
