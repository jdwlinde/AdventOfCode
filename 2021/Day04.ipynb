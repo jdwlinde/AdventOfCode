{
 "cells": [
  {
   "cell_type": "markdown",
   "metadata": {},
   "source": [
    "# Advant of Code: Day 4"
   ]
  },
  {
   "cell_type": "markdown",
   "metadata": {},
   "source": [
    "## Any Method"
   ]
  },
  {
   "cell_type": "markdown",
   "metadata": {},
   "source": [
    "### Part 1"
   ]
  },
  {
   "cell_type": "code",
   "execution_count": 19,
   "metadata": {},
   "outputs": [],
   "source": [
    "import pandas as pd\n",
    "import numpy as np\n",
    "import os"
   ]
  },
  {
   "cell_type": "code",
   "execution_count": 20,
   "metadata": {},
   "outputs": [],
   "source": [
    "TEST_PATH = 'Data/day04.test'\n",
    "DATA_PATH = 'Data/day04.in'\n"
   ]
  },
  {
   "cell_type": "code",
   "execution_count": 212,
   "metadata": {},
   "outputs": [],
   "source": [
    "def bingo(path):\n",
    "    with open(path) as f:\n",
    "        data = f.readlines()\n",
    "    \n",
    "    draw = data.pop(0)\n",
    "    draw = draw[:-1]\n",
    "    draw = draw.split(',')\n",
    "    draw = [int(e) for e in draw]\n",
    "    \n",
    "    data.pop(0)\n",
    "\n",
    "    #Clean the data by removing the new line characters\n",
    "    cleaned = [v[:-1].replace('  ', ' ').strip().split(' ') for v in data]\n",
    "    cleaned = [[[int(e), False] for e in l if e] for l in cleaned]\n",
    "\n",
    "    #list out all the baords\n",
    "    boards = []\n",
    "    for i in range(int(len(cleaned)/6)):\n",
    "        boards.append(cleaned[i*6:i*6+5]) \n",
    "\n",
    "    def call_number(boards, number):\n",
    "        for baord in boards:\n",
    "            for row in baord:\n",
    "                for element in row:\n",
    "                    if element[0] == number:\n",
    "                        element[1] = True\n",
    "\n",
    "    def win_check(boars):\n",
    "        \n",
    "        for i, baord in enumerate(boards):\n",
    "            has_won = False\n",
    "            #row check\n",
    "            for row in baord:\n",
    "                row_sum = 0\n",
    "                for element in row:\n",
    "                    if element[1]:\n",
    "                        row_sum+=1\n",
    "                if row_sum == 5:\n",
    "                    has_won = True\n",
    "                    \n",
    "            #col check\n",
    "            for c in range(5):\n",
    "                col_sum = 0\n",
    "                for r in range(5):\n",
    "                    if baord[r][c][1]:\n",
    "                        col_sum += 1\n",
    "                if col_sum == 5:\n",
    "                    has_won = True\n",
    "\n",
    "            if has_won:\n",
    "                return i\n",
    "\n",
    "        return None\n",
    "\n",
    "    def score_calc(board):\n",
    "        score = 0\n",
    "        for r in board:\n",
    "            for c in r:\n",
    "                if c[1] == False:\n",
    "                    score += c[0]\n",
    "        \n",
    "        return score\n",
    "\n",
    "\n",
    "\n",
    "    for number in draw:\n",
    "        call_number(boards, number)\n",
    "        check = win_check(boards)\n",
    "        if check:\n",
    "            return(f\"Board {check} has won with draw {number} with a score of {score_calc(boards[check])} and answer of {number*score_calc(boards[check])}\")\n",
    "\n",
    "\n",
    "                    \n",
    "    return()\n"
   ]
  },
  {
   "cell_type": "code",
   "execution_count": 214,
   "metadata": {},
   "outputs": [
    {
     "data": {
      "text/plain": [
       "'Board 2 has won with draw 24 with a score of 188 and answer of 4512'"
      ]
     },
     "execution_count": 214,
     "metadata": {},
     "output_type": "execute_result"
    }
   ],
   "source": [
    "bingo(TEST_PATH)"
   ]
  },
  {
   "cell_type": "code",
   "execution_count": 215,
   "metadata": {},
   "outputs": [
    {
     "data": {
      "text/plain": [
       "'Board 41 has won with draw 99 with a score of 899 and answer of 89001'"
      ]
     },
     "execution_count": 215,
     "metadata": {},
     "output_type": "execute_result"
    }
   ],
   "source": [
    "bingo(DATA_PATH)"
   ]
  },
  {
   "cell_type": "code",
   "execution_count": 221,
   "metadata": {},
   "outputs": [],
   "source": [
    "def losing_bingo(path):\n",
    "    with open(path) as f:\n",
    "        data = f.readlines()\n",
    "    \n",
    "    draw = data.pop(0)\n",
    "    draw = draw[:-1]\n",
    "    draw = draw.split(',')\n",
    "    draw = [int(e) for e in draw]\n",
    "    \n",
    "    data.pop(0)\n",
    "\n",
    "    #Clean the data by removing the new line characters\n",
    "    cleaned = [v[:-1].replace('  ', ' ').strip().split(' ') for v in data]\n",
    "    cleaned = [[[int(e), False] for e in l if e] for l in cleaned]\n",
    "\n",
    "    #list out all the baords\n",
    "    boards = []\n",
    "    for i in range(int(len(cleaned)/6)):\n",
    "        boards.append(cleaned[i*6:i*6+5])\n",
    "\n",
    "    def call_number(boards, number):\n",
    "        for baord in boards:\n",
    "            for row in baord:\n",
    "                for element in row:\n",
    "                    if element[0] == number:\n",
    "                        element[1] = True\n",
    "\n",
    "    def win_check(boars):\n",
    "        \n",
    "        board_status = [True for board in boards]\n",
    "        for i, baord in enumerate(boards):\n",
    "            has_won = False\n",
    "            #row check\n",
    "            for row in baord:\n",
    "                row_sum = 0\n",
    "                for element in row:\n",
    "                    if element[1]:\n",
    "                        row_sum+=1\n",
    "                if row_sum == 5:\n",
    "                    has_won = True\n",
    "                    \n",
    "            #col check\n",
    "            for c in range(5):\n",
    "                col_sum = 0\n",
    "                for r in range(5):\n",
    "                    if baord[r][c][1]:\n",
    "                        col_sum += 1\n",
    "                if col_sum == 5:\n",
    "                    has_won = True\n",
    "\n",
    "            if has_won:\n",
    "                board_status[i] = False\n",
    "\n",
    "        return board_status\n",
    "\n",
    "    def score_calc(board):\n",
    "        score = 0\n",
    "        for r in board:\n",
    "            for c in r:\n",
    "                if c[1] == False:\n",
    "                    score += c[0]\n",
    "        \n",
    "        return score\n",
    "\n",
    "\n",
    "\n",
    "    for number in draw:\n",
    "        call_number(boards, number)\n",
    "        check = win_check(boards)\n",
    "        if sum(check) == 1:\n",
    "            losing_board = check.index(True)\n",
    "        if sum(check) == 0:\n",
    "            break\n",
    "        \n",
    "    score = score_calc(boards[losing_board])\n",
    "    return(f\"Board {losing_board} has won last with draw {number} with a score of {score} and answer of {number*score}\")\n",
    "\n",
    "\n",
    "                    \n",
    "    return()\n"
   ]
  },
  {
   "cell_type": "code",
   "execution_count": 222,
   "metadata": {},
   "outputs": [
    {
     "data": {
      "text/plain": [
       "'Board 1 has won last with draw 13 with a score of 148 and answer of 1924'"
      ]
     },
     "execution_count": 222,
     "metadata": {},
     "output_type": "execute_result"
    }
   ],
   "source": [
    "losing_bingo(TEST_PATH)"
   ]
  },
  {
   "cell_type": "code",
   "execution_count": 223,
   "metadata": {},
   "outputs": [
    {
     "data": {
      "text/plain": [
       "'Board 44 has won last with draw 38 with a score of 192 and answer of 7296'"
      ]
     },
     "execution_count": 223,
     "metadata": {},
     "output_type": "execute_result"
    }
   ],
   "source": [
    "losing_bingo(DATA_PATH)"
   ]
  }
 ],
 "metadata": {
  "interpreter": {
   "hash": "4bd624a0593993fe43ac4046b27b898fb2ef75c21c08f81e89e64ea0f51df676"
  },
  "kernelspec": {
   "display_name": "Python 3.9.7 64-bit ('tensorflow': conda)",
   "language": "python",
   "name": "python3"
  },
  "language_info": {
   "codemirror_mode": {
    "name": "ipython",
    "version": 3
   },
   "file_extension": ".py",
   "mimetype": "text/x-python",
   "name": "python",
   "nbconvert_exporter": "python",
   "pygments_lexer": "ipython3",
   "version": "3.9.7"
  },
  "orig_nbformat": 4
 },
 "nbformat": 4,
 "nbformat_minor": 2
}
