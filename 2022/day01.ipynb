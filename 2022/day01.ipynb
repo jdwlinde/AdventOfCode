{
 "cells": [
  {
   "cell_type": "markdown",
   "metadata": {},
   "source": [
    "# Advent of Code 2022 - Day 01"
   ]
  },
  {
   "cell_type": "code",
   "execution_count": 2,
   "metadata": {},
   "outputs": [],
   "source": [
    "import pandas as pd\n",
    "\n",
    "TEST_PATH = 'Data/day01.test'\n",
    "DATA_PATH = 'Data/day01.in'"
   ]
  },
  {
   "cell_type": "markdown",
   "metadata": {},
   "source": [
    "## Part 1"
   ]
  },
  {
   "cell_type": "code",
   "execution_count": 3,
   "metadata": {},
   "outputs": [],
   "source": [
    "def main1(path):\n",
    "    with open(path) as f:\n",
    "        data = f.readlines()\n",
    "    \n",
    "    data = [x[:-1] for x in data]\n",
    "\n",
    "    elf_counter = 1\n",
    "    sum = 0\n",
    "    totals = []\n",
    "\n",
    "    for x in data:\n",
    "        if x == '':\n",
    "            elf_counter += 1\n",
    "            totals.append(sum)\n",
    "            sum = 0\n",
    "        else:\n",
    "            sum += int(x)\n",
    "\n",
    "    totals.append(sum)\n",
    "\n",
    "    max_cal = max(totals)\n",
    "    print(max_cal)"
   ]
  },
  {
   "cell_type": "code",
   "execution_count": 4,
   "metadata": {},
   "outputs": [
    {
     "name": "stdout",
     "output_type": "stream",
     "text": [
      "24000\n"
     ]
    }
   ],
   "source": [
    "main1(TEST_PATH)"
   ]
  },
  {
   "cell_type": "code",
   "execution_count": 5,
   "metadata": {},
   "outputs": [
    {
     "name": "stdout",
     "output_type": "stream",
     "text": [
      "71924\n"
     ]
    }
   ],
   "source": [
    "main1(DATA_PATH)"
   ]
  },
  {
   "cell_type": "code",
   "execution_count": 15,
   "metadata": {},
   "outputs": [
    {
     "name": "stdout",
     "output_type": "stream",
     "text": [
      "71924\n"
     ]
    }
   ],
   "source": [
    "#Try in one line\n",
    "print(sorted([sum([int(snack) for snack in elf.split('\\n')]) for elf in open('Data/day01.in').read().strip().split('\\n\\n')])[-1])"
   ]
  },
  {
   "cell_type": "markdown",
   "metadata": {},
   "source": [
    "## Part 2"
   ]
  },
  {
   "cell_type": "code",
   "execution_count": 7,
   "metadata": {},
   "outputs": [],
   "source": [
    "def main2(path):\n",
    "    with open(path) as f:\n",
    "            data = f.readlines()\n",
    "\n",
    "    data = [x[:-1] for x in data]\n",
    "\n",
    "    elf_counter = 1\n",
    "    sum = 0\n",
    "    totals = []\n",
    "\n",
    "    for x in data:\n",
    "        if x == '':\n",
    "            elf_counter += 1\n",
    "            totals.append(sum)\n",
    "            sum = 0\n",
    "        else:\n",
    "            sum += int(x)\n",
    "\n",
    "    totals.append(sum)\n",
    "\n",
    "    top_totals = 0\n",
    "    for i in range(3):\n",
    "            max_cal = max(totals)\n",
    "            ind = totals.index(max_cal)\n",
    "            top_totals += totals.pop(ind)\n",
    "\n",
    "    print(top_totals)"
   ]
  },
  {
   "cell_type": "code",
   "execution_count": 8,
   "metadata": {},
   "outputs": [
    {
     "name": "stdout",
     "output_type": "stream",
     "text": [
      "41000\n"
     ]
    }
   ],
   "source": [
    "main2(TEST_PATH)"
   ]
  },
  {
   "cell_type": "code",
   "execution_count": 9,
   "metadata": {},
   "outputs": [
    {
     "name": "stdout",
     "output_type": "stream",
     "text": [
      "210406\n"
     ]
    }
   ],
   "source": [
    "main2(DATA_PATH)"
   ]
  },
  {
   "cell_type": "code",
   "execution_count": 17,
   "metadata": {},
   "outputs": [
    {
     "name": "stdout",
     "output_type": "stream",
     "text": [
      "210406\n"
     ]
    }
   ],
   "source": [
    "#Try in one line\n",
    "print(sum(sorted([sum([int(snack) for snack in elf.split('\\n')]) for elf in open('Data/day01.in').read().strip().split('\\n\\n')])[-3:]))"
   ]
  },
  {
   "cell_type": "code",
   "execution_count": null,
   "metadata": {},
   "outputs": [],
   "source": []
  }
 ],
 "metadata": {
  "kernelspec": {
   "display_name": "Python 3.9.12 ('base')",
   "language": "python",
   "name": "python3"
  },
  "language_info": {
   "codemirror_mode": {
    "name": "ipython",
    "version": 3
   },
   "file_extension": ".py",
   "mimetype": "text/x-python",
   "name": "python",
   "nbconvert_exporter": "python",
   "pygments_lexer": "ipython3",
   "version": "3.9.12"
  },
  "orig_nbformat": 4,
  "vscode": {
   "interpreter": {
    "hash": "c6e4e9f98eb68ad3b7c296f83d20e6de614cb42e90992a65aa266555a3137d0d"
   }
  }
 },
 "nbformat": 4,
 "nbformat_minor": 2
}
