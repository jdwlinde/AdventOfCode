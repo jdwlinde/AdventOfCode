{
 "cells": [
  {
   "cell_type": "markdown",
   "metadata": {},
   "source": [
    "# Advent of Code 2022 - Day xx"
   ]
  },
  {
   "cell_type": "code",
   "execution_count": 37,
   "metadata": {},
   "outputs": [],
   "source": [
    "import pandas as pd\n",
    "\n",
    "TEST_PATH = 'Data/day04.test'\n",
    "DATA_PATH = 'Data/day04.in'"
   ]
  },
  {
   "cell_type": "markdown",
   "metadata": {},
   "source": [
    "## Part 1"
   ]
  },
  {
   "cell_type": "code",
   "execution_count": 38,
   "metadata": {},
   "outputs": [],
   "source": [
    "def main1(path):\n",
    "    with open(path) as f:\n",
    "        data = f.read().strip().split('\\n')\n",
    "    \n",
    "    data = [x.split(',') for x in data]\n",
    "    data = [[x[0].split('-'), x[1].split('-')] for x in data]\n",
    "    data = [[range(int(x[0][0]),int(x[0][1])+1),range(int(x[1][0]),int(x[1][1])+1)] for x in data]\n",
    "    data = [True if ((x[0].start in x[1] and x[0][-1] in x[1]) or (x[1].start in x[0] and x[1][-1] in x[0]))else False for x in data]\n",
    "    print(sum(data))"
   ]
  },
  {
   "cell_type": "code",
   "execution_count": 39,
   "metadata": {},
   "outputs": [
    {
     "name": "stdout",
     "output_type": "stream",
     "text": [
      "2\n"
     ]
    }
   ],
   "source": [
    "main1(TEST_PATH)\n",
    "#answer = 2"
   ]
  },
  {
   "cell_type": "code",
   "execution_count": 40,
   "metadata": {},
   "outputs": [
    {
     "name": "stdout",
     "output_type": "stream",
     "text": [
      "496\n"
     ]
    }
   ],
   "source": [
    "main1(DATA_PATH)\n",
    "#answer = 496"
   ]
  },
  {
   "cell_type": "code",
   "execution_count": 41,
   "metadata": {},
   "outputs": [
    {
     "name": "stdout",
     "output_type": "stream",
     "text": [
      "496\n"
     ]
    }
   ],
   "source": [
    "#oneliner\n",
    "print(sum([True if ((x[0].start in x[1] and x[0][-1] in x[1]) or (x[1].start in x[0] and x[1][-1] in x[0]))else False for x in [[range(int(x[0][0]),int(x[0][1])+1),range(int(x[1][0]),int(x[1][1])+1)] for x in [[x[0].split('-'), x[1].split('-')] for x in [x.split(',') for x in open('Data/day04.in').read().strip().split('\\n')]]]]))\n",
    "#answer = 496"
   ]
  },
  {
   "cell_type": "markdown",
   "metadata": {},
   "source": [
    "## Part 2"
   ]
  },
  {
   "cell_type": "code",
   "execution_count": 42,
   "metadata": {},
   "outputs": [],
   "source": [
    "def main2(path):\n",
    "    with open(path) as f:\n",
    "            data = f.read().strip().split('\\n')\n",
    "\n",
    "    data = [x.split(',') for x in data]\n",
    "    data = [[x[0].split('-'), x[1].split('-')] for x in data]\n",
    "    data = [[range(int(x[0][0]),int(x[0][1])+1),range(int(x[1][0]),int(x[1][1])+1)] for x in data]\n",
    "    data = [True if ((x[0].start <= x[1][-1] and x[0][-1] >= x[1].start) or (x[1].start <= x[0][-1] and x[1][-1] >= x[0].start))else False for x in data]\n",
    "    print(sum(data))\n",
    "\n"
   ]
  },
  {
   "cell_type": "code",
   "execution_count": 43,
   "metadata": {},
   "outputs": [
    {
     "name": "stdout",
     "output_type": "stream",
     "text": [
      "4\n"
     ]
    }
   ],
   "source": [
    "main2(TEST_PATH)\n",
    "#answer: 4"
   ]
  },
  {
   "cell_type": "code",
   "execution_count": 44,
   "metadata": {},
   "outputs": [
    {
     "name": "stdout",
     "output_type": "stream",
     "text": [
      "847\n"
     ]
    }
   ],
   "source": [
    "main2(DATA_PATH)\n",
    "#answer: 847"
   ]
  },
  {
   "cell_type": "code",
   "execution_count": 46,
   "metadata": {},
   "outputs": [
    {
     "name": "stdout",
     "output_type": "stream",
     "text": [
      "847\n"
     ]
    }
   ],
   "source": [
    "#oneliner\n",
    "print(sum([True if ((x[0].start <= x[1][-1] and x[0][-1] >= x[1].start) or (x[1].start <= x[0][-1] and x[1][-1] >= x[0].start))else False for x in [[range(int(x[0][0]),int(x[0][1])+1),range(int(x[1][0]),int(x[1][1])+1)] for x in [[x[0].split('-'), x[1].split('-')] for x in [x.split(',') for x in open('Data/day04.in').read().strip().split('\\n')]]]]))\n",
    "#answer: 847"
   ]
  }
 ],
 "metadata": {
  "kernelspec": {
   "display_name": "Python 3.9.12 ('base')",
   "language": "python",
   "name": "python3"
  },
  "language_info": {
   "codemirror_mode": {
    "name": "ipython",
    "version": 3
   },
   "file_extension": ".py",
   "mimetype": "text/x-python",
   "name": "python",
   "nbconvert_exporter": "python",
   "pygments_lexer": "ipython3",
   "version": "3.9.12"
  },
  "orig_nbformat": 4,
  "vscode": {
   "interpreter": {
    "hash": "c6e4e9f98eb68ad3b7c296f83d20e6de614cb42e90992a65aa266555a3137d0d"
   }
  }
 },
 "nbformat": 4,
 "nbformat_minor": 2
}
