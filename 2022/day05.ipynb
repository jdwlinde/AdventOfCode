{
 "cells": [
  {
   "cell_type": "markdown",
   "metadata": {},
   "source": [
    "# Advent of Code 2022 - Day xx"
   ]
  },
  {
   "cell_type": "code",
   "execution_count": 1,
   "metadata": {},
   "outputs": [],
   "source": [
    "import pandas as pd\n",
    "\n",
    "TEST_PATH = 'Data/day05.test'\n",
    "DATA_PATH = 'Data/day05.in'"
   ]
  },
  {
   "cell_type": "markdown",
   "metadata": {},
   "source": [
    "## Part 1"
   ]
  },
  {
   "cell_type": "code",
   "execution_count": 64,
   "metadata": {},
   "outputs": [
    {
     "name": "stdout",
     "output_type": "stream",
     "text": [
      "CMZ\n"
     ]
    }
   ],
   "source": [
    "def main1(path):\n",
    "    with open(path) as f:\n",
    "        data = f.read().split('\\n')\n",
    "    \n",
    "    #Determine where crates stops and moves begins\n",
    "    for i, row in enumerate(data):\n",
    "        if row[:2] == ' 1':\n",
    "            split = i+1\n",
    "\n",
    "    #Parse crates data\n",
    "    stacks = data[:split]\n",
    "    number_of_stacks = int(stacks[-1][-2:-1])\n",
    "    stacks = stacks[:-1]\n",
    "    stacks = [[stack[i:i+4] for i in range(0, len(stack),4)] for stack in stacks]\n",
    "    stacks = [[item[1] for item in stack] for stack in stacks]\n",
    "    \n",
    "    #Rotate crates lists so that a list in stacks is a while stack\n",
    "    stacks = [list(row) for row in zip(*reversed(stacks))]\n",
    "    stacks = [[crate for crate in stack if crate != ' '] for stack in stacks]\n",
    "    \n",
    "    #parse the moves\n",
    "    moves = data[split+1:][:-1]\n",
    "    moves = [move.replace('move ', '').replace('from ', '').replace('to ', '').split(' ') for move in moves]\n",
    "    moves = [[int(step) for step in move] for move in moves]\n",
    "\n",
    "    #Perform the moves\n",
    "    for move in moves:\n",
    "        for step in range(move[0]):\n",
    "            stacks[move[2]-1].append(stacks[move[1]-1].pop(-1))\n",
    "\n",
    "    print(''.join([stack[-1] for stack in stacks]))\n",
    "\n",
    "main1(TEST_PATH)"
   ]
  },
  {
   "cell_type": "code",
   "execution_count": 65,
   "metadata": {},
   "outputs": [
    {
     "name": "stdout",
     "output_type": "stream",
     "text": [
      "CMZ\n"
     ]
    }
   ],
   "source": [
    "main1(TEST_PATH)"
   ]
  },
  {
   "cell_type": "code",
   "execution_count": 66,
   "metadata": {},
   "outputs": [
    {
     "name": "stdout",
     "output_type": "stream",
     "text": [
      "TWSGQHNHL\n"
     ]
    }
   ],
   "source": [
    "main1(DATA_PATH)"
   ]
  },
  {
   "cell_type": "markdown",
   "metadata": {},
   "source": [
    "## Part 2"
   ]
  },
  {
   "cell_type": "code",
   "execution_count": 67,
   "metadata": {},
   "outputs": [],
   "source": [
    "def main2(path):\n",
    "\n",
    "    with open(path) as f:\n",
    "        data = f.read().split('\\n')\n",
    "    \n",
    "    for i, row in enumerate(data):\n",
    "        if row[:2] == ' 1':\n",
    "            split = i+1\n",
    "\n",
    "    stacks = data[:split]\n",
    "    number_of_stacks = int(stacks[-1][-2:-1])\n",
    "    stacks = stacks[:-1]\n",
    "    stacks = [[stack[i:i+4] for i in range(0, len(stack),4)] for stack in stacks]\n",
    "    stacks = [[item[1] for item in stack] for stack in stacks]\n",
    "    \n",
    "    stacks = [list(row) for row in zip(*reversed(stacks))]\n",
    "    stacks = [[crate for crate in stack if crate != ' '] for stack in stacks]\n",
    "    \n",
    "    moves = data[split+1:][:-1]\n",
    "    moves = [move.replace('move ', '').replace('from ', '').replace('to ', '').split(' ') for move in moves]\n",
    "    moves = [[int(step) for step in move] for move in moves]\n",
    "\n",
    "\n",
    "    for move in moves:\n",
    "        stacks[move[2]-1] += (stacks[move[1]-1][-move[0]:])\n",
    "        stacks[move[1]-1] = stacks[move[1]-1][:-move[0]] \n",
    "\n",
    "    print(''.join([stack[-1] for stack in stacks]))\n",
    "\n",
    "    data = [x for x in data]\n"
   ]
  },
  {
   "cell_type": "code",
   "execution_count": 68,
   "metadata": {},
   "outputs": [
    {
     "name": "stdout",
     "output_type": "stream",
     "text": [
      "MCD\n"
     ]
    }
   ],
   "source": [
    "main2(TEST_PATH)\n",
    "#answer = MCD"
   ]
  },
  {
   "cell_type": "code",
   "execution_count": 69,
   "metadata": {},
   "outputs": [
    {
     "name": "stdout",
     "output_type": "stream",
     "text": [
      "JNRSCDWPP\n"
     ]
    }
   ],
   "source": [
    "main2(DATA_PATH)\n",
    "#answer: JNRSCDWPP"
   ]
  }
 ],
 "metadata": {
  "kernelspec": {
   "display_name": "Python 3.9.12 ('base')",
   "language": "python",
   "name": "python3"
  },
  "language_info": {
   "codemirror_mode": {
    "name": "ipython",
    "version": 3
   },
   "file_extension": ".py",
   "mimetype": "text/x-python",
   "name": "python",
   "nbconvert_exporter": "python",
   "pygments_lexer": "ipython3",
   "version": "3.9.12"
  },
  "orig_nbformat": 4,
  "vscode": {
   "interpreter": {
    "hash": "c6e4e9f98eb68ad3b7c296f83d20e6de614cb42e90992a65aa266555a3137d0d"
   }
  }
 },
 "nbformat": 4,
 "nbformat_minor": 2
}
