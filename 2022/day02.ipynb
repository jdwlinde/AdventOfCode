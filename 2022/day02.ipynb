{
 "cells": [
  {
   "cell_type": "markdown",
   "metadata": {},
   "source": [
    "# Advent of Code 2022 - Day 02"
   ]
  },
  {
   "cell_type": "code",
   "execution_count": 97,
   "metadata": {},
   "outputs": [],
   "source": [
    "import pandas as pd\n",
    "\n",
    "TEST_PATH = 'Data/day02.test'\n",
    "DATA_PATH = 'Data/day02.in'"
   ]
  },
  {
   "cell_type": "markdown",
   "metadata": {},
   "source": [
    "## Part 1"
   ]
  },
  {
   "cell_type": "code",
   "execution_count": 98,
   "metadata": {},
   "outputs": [],
   "source": [
    "move_scores = {'X': 1, 'Y': 2, 'Z':3}\n",
    "\n",
    "win_conditions = {\n",
    "                    'C':'X',\n",
    "                    'B':'Z',\n",
    "                    'A':'Y'\n",
    "                    }\n",
    "\n",
    "draw_conditions = {\n",
    "                    'C':'Z',\n",
    "                    'B':'Y',\n",
    "                    'A':'X'\n",
    "                    }\n",
    "\n",
    "def game_score(game):\n",
    "    if game[1] == draw_conditions[game[0]]:\n",
    "        return 3\n",
    "    elif game[1] == win_conditions[game[0]]:\n",
    "        return 6\n",
    "    else:\n",
    "        return 0\n",
    "\n",
    "def main1(path):\n",
    "    with open(path) as f:\n",
    "        data = f.read()\n",
    "\n",
    "    data = [game.split(' ') for game in data.strip().split('\\n')]\n",
    "\n",
    "    score = 0\n",
    "\n",
    "    for game in data:\n",
    "        score += move_scores[game[1]]\n",
    "        score += game_score(game)\n",
    "\n",
    "\n",
    "    print(score)"
   ]
  },
  {
   "cell_type": "code",
   "execution_count": 99,
   "metadata": {},
   "outputs": [
    {
     "name": "stdout",
     "output_type": "stream",
     "text": [
      "15\n"
     ]
    }
   ],
   "source": [
    "main1(TEST_PATH)\n",
    "#answer: 15"
   ]
  },
  {
   "cell_type": "code",
   "execution_count": 100,
   "metadata": {},
   "outputs": [
    {
     "name": "stdout",
     "output_type": "stream",
     "text": [
      "11449\n"
     ]
    }
   ],
   "source": [
    "main1(DATA_PATH)\n",
    "#answer: 11449"
   ]
  },
  {
   "cell_type": "code",
   "execution_count": 101,
   "metadata": {},
   "outputs": [
    {
     "name": "stdout",
     "output_type": "stream",
     "text": [
      "11449\n"
     ]
    }
   ],
   "source": [
    "#one liner\n",
    "print(sum([((int(game[0]) - int(game[-1]) + 4)% 3 * 3) + {'1':1,'2':3,'3':2}[game[-1]] for game in open('Data/day02.in').read().strip().replace('A','1').replace('B','3').replace('C','2').replace('X','1').replace('Y','3').replace('Z','2').split('\\n')]))\n"
   ]
  },
  {
   "cell_type": "markdown",
   "metadata": {},
   "source": [
    "## Part 2"
   ]
  },
  {
   "cell_type": "code",
   "execution_count": 102,
   "metadata": {},
   "outputs": [],
   "source": [
    "move_scores = {'A': 1, 'B': 2, 'C':3}\n",
    "game_scores = {'X': 0, 'Y': 3, 'Z':6}\n",
    "\n",
    "win_conditions = {\n",
    "                    'C':'A',\n",
    "                    'B':'C',\n",
    "                    'A':'B'\n",
    "                    }\n",
    "\n",
    "draw_conditions = {\n",
    "                    'C':'C',\n",
    "                    'B':'B',\n",
    "                    'A':'A'\n",
    "                    }\n",
    "\n",
    "lose_conditions = {\n",
    "                    'C':'B',\n",
    "                    'B':'A',\n",
    "                    'A':'C'\n",
    "                    }\n",
    "\n",
    "def player_move_score(game):\n",
    "    if game[1] == 'X':\n",
    "        move = lose_conditions[game[0]]\n",
    "        \n",
    "    elif game[1] == 'Y':\n",
    "        move = draw_conditions[game[0]]\n",
    "    elif game[1] == 'Z':\n",
    "        move = win_conditions[game[0]]\n",
    "    return move_scores[move]\n",
    "\n",
    "def main2(path):\n",
    "    with open(path) as f:\n",
    "        data = f.read()\n",
    "\n",
    "    data = [game.split(' ') for game in data.strip().split('\\n')]\n",
    "\n",
    "    score = 0\n",
    "\n",
    "    for game in data:\n",
    "        score += game_scores[game[1]]\n",
    "        score += player_move_score(game)\n",
    "\n",
    "\n",
    "    print(score)"
   ]
  },
  {
   "cell_type": "code",
   "execution_count": 103,
   "metadata": {},
   "outputs": [
    {
     "name": "stdout",
     "output_type": "stream",
     "text": [
      "12\n"
     ]
    }
   ],
   "source": [
    "main2(TEST_PATH)\n",
    "#answer: 12"
   ]
  },
  {
   "cell_type": "code",
   "execution_count": 104,
   "metadata": {},
   "outputs": [
    {
     "name": "stdout",
     "output_type": "stream",
     "text": [
      "13187\n"
     ]
    }
   ],
   "source": [
    "main2(DATA_PATH)\n",
    "#answer: 13187"
   ]
  },
  {
   "cell_type": "code",
   "execution_count": 105,
   "metadata": {},
   "outputs": [
    {
     "name": "stdout",
     "output_type": "stream",
     "text": [
      "13187\n"
     ]
    }
   ],
   "source": [
    "#one liner\n",
    "print(sum([((int(game[0]) + {'0':-1,'3':0, '6':1}[game[-1]])% 3 + 1) + int(game[-1]) for game in open('Data/day02.in').read().strip().replace('A','3').replace('B','1').replace('C','2').replace('X','0').replace('Y','3').replace('Z','6').split('\\n')]))\n"
   ]
  }
 ],
 "metadata": {
  "kernelspec": {
   "display_name": "Python 3.9.12 ('base')",
   "language": "python",
   "name": "python3"
  },
  "language_info": {
   "codemirror_mode": {
    "name": "ipython",
    "version": 3
   },
   "file_extension": ".py",
   "mimetype": "text/x-python",
   "name": "python",
   "nbconvert_exporter": "python",
   "pygments_lexer": "ipython3",
   "version": "3.9.12"
  },
  "orig_nbformat": 4,
  "vscode": {
   "interpreter": {
    "hash": "c6e4e9f98eb68ad3b7c296f83d20e6de614cb42e90992a65aa266555a3137d0d"
   }
  }
 },
 "nbformat": 4,
 "nbformat_minor": 2
}
