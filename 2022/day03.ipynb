{
 "cells": [
  {
   "cell_type": "markdown",
   "metadata": {},
   "source": [
    "# Advent of Code 2022 - Day 03"
   ]
  },
  {
   "cell_type": "code",
   "execution_count": 6,
   "metadata": {},
   "outputs": [],
   "source": [
    "import pandas as pd\n",
    "\n",
    "TEST_PATH = 'Data/day03.test'\n",
    "DATA_PATH = 'Data/day03.in'"
   ]
  },
  {
   "cell_type": "markdown",
   "metadata": {},
   "source": [
    "## Part 1"
   ]
  },
  {
   "cell_type": "code",
   "execution_count": 63,
   "metadata": {},
   "outputs": [],
   "source": [
    "def main1(path):\n",
    "    with open(path) as f:\n",
    "        data = f.read().strip().split('\\n')\n",
    "    \n",
    "    data = [list(set(x[:int(len(x)/2)]).intersection(list(x[int(len(x)/2):])))[0] for x in data]\n",
    "    data = [ord(x)-38 if x.isupper() else ord(x)-96 for x in data]\n",
    "    \n",
    "    display(sum(data))\n"
   ]
  },
  {
   "cell_type": "code",
   "execution_count": 64,
   "metadata": {},
   "outputs": [
    {
     "data": {
      "text/plain": [
       "157"
      ]
     },
     "metadata": {},
     "output_type": "display_data"
    }
   ],
   "source": [
    "main1(TEST_PATH)\n",
    "#answer: 157"
   ]
  },
  {
   "cell_type": "code",
   "execution_count": 111,
   "metadata": {},
   "outputs": [
    {
     "data": {
      "text/plain": [
       "7848"
      ]
     },
     "metadata": {},
     "output_type": "display_data"
    }
   ],
   "source": [
    "main1(DATA_PATH)\n",
    "#answer: 7848"
   ]
  },
  {
   "cell_type": "code",
   "execution_count": 113,
   "metadata": {},
   "outputs": [
    {
     "data": {
      "text/plain": [
       "7848"
      ]
     },
     "metadata": {},
     "output_type": "display_data"
    }
   ],
   "source": [
    "#one liner\n",
    "\n",
    "display(sum([ord(x)-38 if x.isupper() else ord(x)-96 for x in [list(set(x[:int(len(x)/2)]).intersection(list(x[int(len(x)/2):])))[0] for x in open('Data/day03.in').read().strip().split('\\n')]]))\n",
    "#answer: 7848"
   ]
  },
  {
   "cell_type": "markdown",
   "metadata": {},
   "source": [
    "## Part 2"
   ]
  },
  {
   "cell_type": "code",
   "execution_count": 100,
   "metadata": {},
   "outputs": [],
   "source": [
    "def main2(path):\n",
    "    with open(path) as f:\n",
    "            data = f.read().strip().split('\\n')\n",
    "\n",
    "    data = [data[i*3:i*3+3] for i in range(int(len(data)/3))]\n",
    "    data = [list(set(list(group[0])).intersection(list(group[1])).intersection(list(group[2])))[0] for group in data]\n",
    "    data = [ord(x)-38 if x.isupper() else ord(x)-96 for x in data]\n",
    "\n",
    "    display(sum(data))\n"
   ]
  },
  {
   "cell_type": "code",
   "execution_count": 101,
   "metadata": {},
   "outputs": [
    {
     "data": {
      "text/plain": [
       "70"
      ]
     },
     "metadata": {},
     "output_type": "display_data"
    }
   ],
   "source": [
    "main2(TEST_PATH)\n",
    "#answer: 70"
   ]
  },
  {
   "cell_type": "code",
   "execution_count": 102,
   "metadata": {},
   "outputs": [
    {
     "data": {
      "text/plain": [
       "2616"
      ]
     },
     "metadata": {},
     "output_type": "display_data"
    }
   ],
   "source": [
    "main2(DATA_PATH)\n",
    "#answer: 2616"
   ]
  },
  {
   "cell_type": "code",
   "execution_count": 128,
   "metadata": {},
   "outputs": [
    {
     "data": {
      "text/plain": [
       "2616"
      ]
     },
     "metadata": {},
     "output_type": "display_data"
    }
   ],
   "source": [
    "#oneliner\n",
    "\n",
    "display(sum([ord(x)-38 if x.isupper() else ord(x)-96 for x in [list(set(list(group[0])).intersection(list(group[1])).intersection(list(group[2])))[0] for group in [open('Data/day03.in').read().strip().split('\\n')[i*3:i*3+3] for i in range(int(len(open('Data/day03.in').read().strip().split('\\n'))/3))]]]))\n",
    "#answer: 2616"
   ]
  }
 ],
 "metadata": {
  "kernelspec": {
   "display_name": "Python 3.9.12 ('base')",
   "language": "python",
   "name": "python3"
  },
  "language_info": {
   "codemirror_mode": {
    "name": "ipython",
    "version": 3
   },
   "file_extension": ".py",
   "mimetype": "text/x-python",
   "name": "python",
   "nbconvert_exporter": "python",
   "pygments_lexer": "ipython3",
   "version": "3.9.12"
  },
  "orig_nbformat": 4,
  "vscode": {
   "interpreter": {
    "hash": "c6e4e9f98eb68ad3b7c296f83d20e6de614cb42e90992a65aa266555a3137d0d"
   }
  }
 },
 "nbformat": 4,
 "nbformat_minor": 2
}
