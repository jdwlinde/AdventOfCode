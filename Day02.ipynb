{
 "cells": [
  {
   "cell_type": "markdown",
   "metadata": {},
   "source": [
    "# Advant of Code: Day 2"
   ]
  },
  {
   "cell_type": "markdown",
   "metadata": {},
   "source": [
    "## Any method"
   ]
  },
  {
   "cell_type": "markdown",
   "metadata": {},
   "source": [
    "### Part 1"
   ]
  },
  {
   "cell_type": "code",
   "execution_count": 27,
   "metadata": {},
   "outputs": [],
   "source": [
    "import pandas as pd\n",
    "import numpy as np"
   ]
  },
  {
   "cell_type": "code",
   "execution_count": 28,
   "metadata": {},
   "outputs": [],
   "source": [
    "data = pd.read_csv('Data/day02.in', header=None)"
   ]
  },
  {
   "cell_type": "code",
   "execution_count": 38,
   "metadata": {},
   "outputs": [],
   "source": [
    "data[['direction','amount']] = data[0].str.split(' ', expand=True) \n",
    "data['amount'] = pd.to_numeric(data['amount'])\n",
    "totals = data[['direction', 'amount']].groupby(['direction']).sum()"
   ]
  },
  {
   "cell_type": "code",
   "execution_count": 39,
   "metadata": {},
   "outputs": [
    {
     "data": {
      "text/html": [
       "<div>\n",
       "<style scoped>\n",
       "    .dataframe tbody tr th:only-of-type {\n",
       "        vertical-align: middle;\n",
       "    }\n",
       "\n",
       "    .dataframe tbody tr th {\n",
       "        vertical-align: top;\n",
       "    }\n",
       "\n",
       "    .dataframe thead th {\n",
       "        text-align: right;\n",
       "    }\n",
       "</style>\n",
       "<table border=\"1\" class=\"dataframe\">\n",
       "  <thead>\n",
       "    <tr style=\"text-align: right;\">\n",
       "      <th></th>\n",
       "      <th>amount</th>\n",
       "    </tr>\n",
       "    <tr>\n",
       "      <th>direction</th>\n",
       "      <th></th>\n",
       "    </tr>\n",
       "  </thead>\n",
       "  <tbody>\n",
       "    <tr>\n",
       "      <th>down</th>\n",
       "      <td>1913</td>\n",
       "    </tr>\n",
       "    <tr>\n",
       "      <th>forward</th>\n",
       "      <td>2105</td>\n",
       "    </tr>\n",
       "    <tr>\n",
       "      <th>up</th>\n",
       "      <td>1106</td>\n",
       "    </tr>\n",
       "  </tbody>\n",
       "</table>\n",
       "</div>"
      ],
      "text/plain": [
       "           amount\n",
       "direction        \n",
       "down         1913\n",
       "forward      2105\n",
       "up           1106"
      ]
     },
     "execution_count": 39,
     "metadata": {},
     "output_type": "execute_result"
    }
   ],
   "source": [
    "totals.head()"
   ]
  },
  {
   "cell_type": "code",
   "execution_count": 45,
   "metadata": {},
   "outputs": [
    {
     "name": "stdout",
     "output_type": "stream",
     "text": [
      "The depth is: 807\n",
      "The horizontal position is: 2105\n",
      "The product of the two is: 1698735\n"
     ]
    }
   ],
   "source": [
    "depth = totals.loc['down', 'amount'] - totals.loc['up', 'amount']\n",
    "horizontal_position = totals.loc['forward', 'amount']\n",
    "\n",
    "answer = depth * horizontal_position\n",
    "print(f'The depth is: {depth}\\nThe horizontal position is: {horizontal_position}\\nThe product of the two is: {answer}')"
   ]
  },
  {
   "cell_type": "markdown",
   "metadata": {},
   "source": [
    "### Part 2"
   ]
  },
  {
   "cell_type": "code",
   "execution_count": 57,
   "metadata": {},
   "outputs": [],
   "source": [
    "data['change_in_aim'] = np.where(data['direction'] == 'down', data['amount'], np.where(data['direction'] == 'up', -data['amount'],0))\n",
    "data['horizontal_progress'] = np.where(data['direction'] == 'forward',data['amount'],0).cumsum()\n",
    "data['aim_progress'] = data['change_in_aim'].cumsum()\n",
    "data['change_in_depth'] = np.where(data['direction'] == 'forward', data['aim_progress'] * data['amount'],0)\n",
    "data['depth_progress'] = data['change_in_depth'].cumsum()"
   ]
  },
  {
   "cell_type": "code",
   "execution_count": 63,
   "metadata": {},
   "outputs": [
    {
     "data": {
      "text/html": [
       "<div>\n",
       "<style scoped>\n",
       "    .dataframe tbody tr th:only-of-type {\n",
       "        vertical-align: middle;\n",
       "    }\n",
       "\n",
       "    .dataframe tbody tr th {\n",
       "        vertical-align: top;\n",
       "    }\n",
       "\n",
       "    .dataframe thead th {\n",
       "        text-align: right;\n",
       "    }\n",
       "</style>\n",
       "<table border=\"1\" class=\"dataframe\">\n",
       "  <thead>\n",
       "    <tr style=\"text-align: right;\">\n",
       "      <th></th>\n",
       "      <th>0</th>\n",
       "      <th>direction</th>\n",
       "      <th>amount</th>\n",
       "      <th>change_in_aim</th>\n",
       "      <th>horizontal_progress</th>\n",
       "      <th>aim_progress</th>\n",
       "      <th>change_in_depth</th>\n",
       "      <th>depth_progress</th>\n",
       "    </tr>\n",
       "  </thead>\n",
       "  <tbody>\n",
       "    <tr>\n",
       "      <th>995</th>\n",
       "      <td>down 4</td>\n",
       "      <td>down</td>\n",
       "      <td>4</td>\n",
       "      <td>4</td>\n",
       "      <td>2087</td>\n",
       "      <td>807</td>\n",
       "      <td>0</td>\n",
       "      <td>743092</td>\n",
       "    </tr>\n",
       "    <tr>\n",
       "      <th>996</th>\n",
       "      <td>forward 1</td>\n",
       "      <td>forward</td>\n",
       "      <td>1</td>\n",
       "      <td>0</td>\n",
       "      <td>2088</td>\n",
       "      <td>807</td>\n",
       "      <td>807</td>\n",
       "      <td>743899</td>\n",
       "    </tr>\n",
       "    <tr>\n",
       "      <th>997</th>\n",
       "      <td>forward 6</td>\n",
       "      <td>forward</td>\n",
       "      <td>6</td>\n",
       "      <td>0</td>\n",
       "      <td>2094</td>\n",
       "      <td>807</td>\n",
       "      <td>4842</td>\n",
       "      <td>748741</td>\n",
       "    </tr>\n",
       "    <tr>\n",
       "      <th>998</th>\n",
       "      <td>forward 8</td>\n",
       "      <td>forward</td>\n",
       "      <td>8</td>\n",
       "      <td>0</td>\n",
       "      <td>2102</td>\n",
       "      <td>807</td>\n",
       "      <td>6456</td>\n",
       "      <td>755197</td>\n",
       "    </tr>\n",
       "    <tr>\n",
       "      <th>999</th>\n",
       "      <td>forward 3</td>\n",
       "      <td>forward</td>\n",
       "      <td>3</td>\n",
       "      <td>0</td>\n",
       "      <td>2105</td>\n",
       "      <td>807</td>\n",
       "      <td>2421</td>\n",
       "      <td>757618</td>\n",
       "    </tr>\n",
       "  </tbody>\n",
       "</table>\n",
       "</div>"
      ],
      "text/plain": [
       "             0 direction  amount  change_in_aim  horizontal_progress  \\\n",
       "995     down 4      down       4              4                 2087   \n",
       "996  forward 1   forward       1              0                 2088   \n",
       "997  forward 6   forward       6              0                 2094   \n",
       "998  forward 8   forward       8              0                 2102   \n",
       "999  forward 3   forward       3              0                 2105   \n",
       "\n",
       "     aim_progress  change_in_depth  depth_progress  \n",
       "995           807                0          743092  \n",
       "996           807              807          743899  \n",
       "997           807             4842          748741  \n",
       "998           807             6456          755197  \n",
       "999           807             2421          757618  "
      ]
     },
     "execution_count": 63,
     "metadata": {},
     "output_type": "execute_result"
    }
   ],
   "source": [
    "data.tail()"
   ]
  },
  {
   "cell_type": "code",
   "execution_count": 62,
   "metadata": {},
   "outputs": [
    {
     "name": "stdout",
     "output_type": "stream",
     "text": [
      "The depth is: 757618\n",
      "The horizontal position is: 2105\n",
      "The product of the two is: 1594785890\n"
     ]
    }
   ],
   "source": [
    "new_depth = data['depth_progress'].iloc[-1]\n",
    "new_horizontal_position = data['horizontal_progress'].iloc[-1]\n",
    "\n",
    "new_answer = new_depth * new_horizontal_position\n",
    "print(f'The depth is: {new_depth}\\nThe horizontal position is: {new_horizontal_position}\\nThe product of the two is: {new_answer}')"
   ]
  },
  {
   "cell_type": "code",
   "execution_count": null,
   "metadata": {},
   "outputs": [],
   "source": []
  }
 ],
 "metadata": {
  "interpreter": {
   "hash": "4bd624a0593993fe43ac4046b27b898fb2ef75c21c08f81e89e64ea0f51df676"
  },
  "kernelspec": {
   "display_name": "Python 3.9.7 64-bit ('tensorflow': conda)",
   "language": "python",
   "name": "python3"
  },
  "language_info": {
   "codemirror_mode": {
    "name": "ipython",
    "version": 3
   },
   "file_extension": ".py",
   "mimetype": "text/x-python",
   "name": "python",
   "nbconvert_exporter": "python",
   "pygments_lexer": "ipython3",
   "version": "3.9.7"
  },
  "orig_nbformat": 4
 },
 "nbformat": 4,
 "nbformat_minor": 2
}
